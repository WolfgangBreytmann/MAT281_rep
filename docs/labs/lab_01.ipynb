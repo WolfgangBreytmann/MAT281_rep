{
  "cells": [
    {
      "cell_type": "markdown",
      "id": "e2696553",
      "metadata": {
        "id": "e2696553"
      },
      "source": [
        "<a href=\"https://colab.research.google.com/github/fralfaro/MAT281_2023/blob/main/docs/labs/lab_01.ipynb\" target=\"_parent\"><img src=\"https://colab.research.google.com/assets/colab-badge.svg\" alt=\"Open In Colab\"/></a>\n",
        "\n",
        "\n",
        "# MAT281 - Laboratorio N°01\n"
      ]
    },
    {
      "cell_type": "markdown",
      "id": "a869ace0",
      "metadata": {
        "id": "a869ace0"
      },
      "source": [
        "## Problema 01\n",
        "\n",
        "En los siglos XVII y XVIII, James Gregory y Gottfried Leibniz descubrieron una serie infinita que sirve para calcular $\\pi$:\n",
        "\n",
        "$$\\displaystyle \\pi = 4 \\sum_{k=1}^{\\infty}\\dfrac{(-1)^{k+1}}{2k-1} = 4(1-\\dfrac{1}{3}+\\dfrac{1}{5}-\\dfrac{1}{7} + ...) $$\n",
        "\n",
        "Desarolle un programa para estimar el valor de $\\pi$ ocupando el método de Leibniz, donde la entrada del programa debe ser un número entero $n$ que indique cuántos términos de la suma se utilizará.\n",
        "\n",
        "\n",
        "* **Ejemplo**:\n",
        "    * *calcular_pi(3)* = 3.466666666666667\n",
        "    * *calcular_pi(1000)* = 3.140592653839794"
      ]
    },
    {
      "cell_type": "code",
      "execution_count": 4,
      "id": "dd54e855",
      "metadata": {
        "id": "dd54e855",
        "outputId": "9452e7e1-4b3c-4972-cff2-1e5b54915107",
        "colab": {
          "base_uri": "https://localhost:8080/"
        }
      },
      "outputs": [
        {
          "output_type": "stream",
          "name": "stdout",
          "text": [
            "3.466666666666667\n",
            "3.140592653839794\n",
            "ingrese numero natural para la suma parcial: 100\n",
            "3.1315929035585537\n"
          ]
        }
      ],
      "source": [
        "def calcular_pi(n): #la funcion toma un numero natural y realiza la suma parcial hasta el numero entregado\n",
        "  sum_parcial=0\n",
        "  for i in range(1,n+1):\n",
        "    sum_parcial+= ((-1)**(i+1))/(2*i-1)\n",
        "  return 4*sum_parcial\n",
        "\n",
        "print(calcular_pi(3))\n",
        "print(calcular_pi(1000))\n",
        "n=input(\"ingrese numero natural para calcular la suma parcial hasta el numero entregado: \")\n",
        "print(calcular_pi(int(n)))"
      ]
    },
    {
      "cell_type": "markdown",
      "id": "c26be634",
      "metadata": {
        "id": "c26be634"
      },
      "source": [
        "## Problema 02\n",
        "\n",
        "Euler realizó varios aportes en relación a $e$, pero no fue hasta 1748 cuando publicó su **Introductio in analysin infinitorum** que dio un tratamiento definitivo a las ideas sobre $e$. Allí mostró que:\n",
        "\n",
        "\n",
        "En los siglos XVII y XVIII, James Gregory y Gottfried Leibniz descubrieron una serie infinita que sirve para calcular π:\n",
        "\n",
        "$$\\displaystyle e = \\sum_{k=0}^{\\infty}\\dfrac{1}{k!} = 1+\\dfrac{1}{2!}+\\dfrac{1}{3!}+\\dfrac{1}{4!} + ... $$\n",
        "\n",
        "Desarolle un programa para estimar el valor de $e$ ocupando el método de Euler, donde la entrada del programa debe ser un número entero $n$ que indique cuántos términos de la suma se utilizará.\n",
        "\n",
        "Para esto:\n",
        "\n",
        "* a) Defina la función `factorial`, donde la entrada sea un número natural  $n$ y la salida sea el factorial de dicho número.\n",
        "    * **Ejemplo**: *factorial(3)* =3, *factorial(5)* = 120\n",
        "    \n",
        "    \n",
        "* b) Ocupe la función `factorial` dentro de la función `calcular_e`.     \n",
        "    * **Ejemplo**: *calcular_e(3)* = 2.6666666666666665, *calcular_e(1000)* = 2.7182818284590455"
      ]
    },
    {
      "cell_type": "code",
      "execution_count": 20,
      "id": "706d4c0a",
      "metadata": {
        "id": "706d4c0a",
        "outputId": "07614b14-74ac-4373-fb29-33ed8bb87897",
        "colab": {
          "base_uri": "https://localhost:8080/"
        }
      },
      "outputs": [
        {
          "output_type": "stream",
          "name": "stdout",
          "text": [
            "6\n",
            "120\n",
            "ingrese numero natural para calcular su factorial: 20\n",
            "2432902008176640000\n",
            "2.6666666666666665\n",
            "2.7182818284590455\n",
            "ingrese numero natural para calcular la suma parcial hasta el numero entregado: 40\n",
            "2.7182818284590455\n"
          ]
        }
      ],
      "source": [
        "import sys\n",
        "sys.setrecursionlimit(10000)\n",
        "def factorial(n): #la funcion toma un numero natural y le calcula su factorial por recursión\n",
        "  if n==0:\n",
        "    return 1\n",
        "  elif n==1:\n",
        "    return 1\n",
        "  else:\n",
        "    return n*factorial(n-1)\n",
        "\n",
        "print(factorial(3))\n",
        "print(factorial(5))\n",
        "n=input(\"ingrese numero natural para calcular su factorial: \")\n",
        "print(factorial(int(n)))\n",
        "\n",
        "def calcular_e(n): #la funcion toma un natural y calcula la suma parcial hasta el numero entregado\n",
        "  sum_parcial=0\n",
        "  for i in range(n+1):\n",
        "    sum_parcial+= 1/factorial(i)\n",
        "  return sum_parcial\n",
        "\n",
        "print(calcular_e(3))\n",
        "print(calcular_e(1000))\n",
        "m=input(\"ingrese numero natural para calcular la suma parcial hasta el numero entregado: \")\n",
        "print(calcular_e(int(n)))"
      ]
    },
    {
      "cell_type": "markdown",
      "id": "9707be93",
      "metadata": {
        "id": "9707be93"
      },
      "source": [
        "## Problema 03\n",
        "\n",
        "Sea $\\sigma(n)$ definido como la suma de los divisores propios de $n$ (números menores que n que se dividen en $n$).\n",
        "\n",
        "Los [números amigos](https://en.wikipedia.org/wiki/Amicable_numbers) son  enteros positivos $n_1$ y $n_2$ tales que la suma de los divisores propios de uno es igual al otro número y viceversa, es decir, $\\sigma(n_1)=\\sigma(n_2)$ y $\\sigma(n_2)=\\sigma(n_1)$.\n",
        "\n",
        "\n",
        "Por ejemplo, los números 220 y 284 son números amigos.\n",
        "* los divisores propios de 220 son 1, 2, 4, 5, 10, 11, 20, 22, 44, 55 y 110; por lo tanto $\\sigma(220) = 284$.\n",
        "* los divisores propios de 284 son 1, 2, 4, 71 y 142; entonces $\\sigma(284) = 220$.\n",
        "\n",
        "\n",
        "Implemente una función llamada `amigos` cuyo input sean dos números naturales $n_1$ y $n_2$, cuyo output sea verifique si los números son amigos o no.\n",
        "\n",
        "Para esto:\n",
        "\n",
        "* a) Defina la función `divisores_propios`, donde la entrada sea un número natural $n$ y la salida sea una lista con los divisores propios de dicho número.\n",
        "    * **Ejemplo**: *divisores_propios(220)* = [1, 2, 4, 5, 10, 11, 20, 22, 44, 55 y 110], *divisores_propios(284)* = [1, 2, 4, 71 y 142]\n",
        "    \n",
        "    \n",
        "* b) Ocupe la función `divisores_propios` dentro de la función `amigos`.\n",
        "\n",
        "    * **Ejemplo**: *amigos(220,284)* = True, *amigos(6,5)* = False"
      ]
    },
    {
      "cell_type": "code",
      "execution_count": 22,
      "id": "e695ea21",
      "metadata": {
        "id": "e695ea21",
        "outputId": "b72c0c6d-f232-4d05-c1b2-070876a45f67",
        "colab": {
          "base_uri": "https://localhost:8080/"
        }
      },
      "outputs": [
        {
          "output_type": "stream",
          "name": "stdout",
          "text": [
            "[1, 2, 4, 5, 10, 11, 20, 22, 44, 55, 110]\n",
            "[1, 2, 4, 5, 7, 8, 10, 14, 20, 28, 35, 40, 56, 70, 140]\n",
            "ingrese numero al que le quiera ver los divisores propios: 80\n",
            "[1, 2, 4, 5, 8, 10, 16, 20, 40]\n",
            "True\n",
            "False\n",
            "ingrese el primer numero natural a comparar: 50\n",
            "ingrese el segundo numero natural a comparar: 64\n",
            "False\n"
          ]
        }
      ],
      "source": [
        "def divisores_propios(n): #la funcion toma un natural y retorna una lista con todos los divisores propios\n",
        "  divisores_prop=[]\n",
        "  for i in range(1,n):\n",
        "    if n%i==0:\n",
        "      divisores_prop.append(i)\n",
        "  return(divisores_prop)\n",
        "\n",
        "print(divisores_propios(220))\n",
        "print(divisores_propios(280))\n",
        "n=input(\"ingrese numero al que le quiera ver los divisores propios: \")\n",
        "print(divisores_propios(int(n)))\n",
        "\n",
        "def amigos(a,b): #la funcion compara si dos numeros naturales son amigos y delvuelve un buleano\n",
        "  div_a=divisores_propios(a)\n",
        "  div_b=divisores_propios(b)\n",
        "\n",
        "  if sum(div_a)==b and sum(div_b)==a:\n",
        "    return True\n",
        "  else:\n",
        "    return False\n",
        "\n",
        "print(amigos(220,284))\n",
        "print(amigos(6,5))\n",
        "a=input(\"ingrese el primer numero natural a comparar: \")\n",
        "b=input(\"ingrese el segundo numero natural a comparar: \")\n",
        "\n",
        "print(amigos(int(a),int(b)))"
      ]
    },
    {
      "cell_type": "markdown",
      "id": "cf93a039",
      "metadata": {
        "id": "cf93a039"
      },
      "source": [
        "## Problema 04\n",
        "\n",
        "La [conjetura de Collatz](https://en.wikipedia.org/wiki/Collatz_conjecture), conocida también como conjetura $3n+1$ o conjetura de Ulam (entre otros nombres), fue enunciada por el matemático Lothar Collatz en 1937, y a la fecha no se ha resuelto.\n",
        "\n",
        "Sea la siguiente operación, aplicable a cualquier número entero positivo:\n",
        "* Si el número es par, se divide entre 2.\n",
        "* Si el número es impar, se multiplica por 3 y se suma 1.\n",
        "\n",
        "La conjetura dice que siempre alcanzaremos el 1 (y por tanto el ciclo 4, 2, 1) para cualquier número con el que comencemos.\n",
        "\n",
        "Implemente una función llamada `collatz` cuyo input sea un número natural positivo $N$ y como output devulva la secuencia de números hasta llegar a 1.\n",
        "\n",
        "* **Ejemplo**: *collatz(9)* = [9, 28, 14, 7, 22, 11, 34, 17, 52, 26, 13, 40, 20, 10, 5, 16, 8, 4, 2, 1]"
      ]
    },
    {
      "cell_type": "code",
      "execution_count": 25,
      "id": "10501a00",
      "metadata": {
        "id": "10501a00",
        "outputId": "e0a8597a-dc75-4b15-df27-f355a70b50cd",
        "colab": {
          "base_uri": "https://localhost:8080/"
        }
      },
      "outputs": [
        {
          "output_type": "stream",
          "name": "stdout",
          "text": [
            "[9, 28, 14, 7, 22, 11, 34, 17, 52, 26, 13, 40, 20, 10, 5, 16, 8, 4, 2, 1]\n",
            "ingrese un numero natural para calcular su secuencia de collatz: 40\n",
            "[40, 20, 10, 5, 16, 8, 4, 2, 1]\n"
          ]
        }
      ],
      "source": [
        "def collatz(N): #la funcion toma un numero natural y agrega en una lista la secuencia de numeros hasta llegar a 1\n",
        "                #siguiendo la iteracion de collatz\n",
        "  sec_collatz=[N]\n",
        "  i=N\n",
        "  while i !=1:\n",
        "    if i%2==0:\n",
        "      i = int(i/2)\n",
        "      sec_collatz.append(i)\n",
        "    else:\n",
        "      i = int(i*3+1)\n",
        "      sec_collatz.append(i)\n",
        "  return (sec_collatz)\n",
        "\n",
        "print(collatz(9))\n",
        "n=input(\"ingrese un numero natural para calcular su secuencia de collatz: \")\n",
        "print(collatz(int(n)))"
      ]
    },
    {
      "cell_type": "markdown",
      "id": "d15af4eb",
      "metadata": {
        "id": "d15af4eb"
      },
      "source": [
        "## Problema 05\n",
        "La [conjetura de Goldbach](https://en.wikipedia.org/wiki/Goldbach%27s_conjecture) es uno de los problemas abiertos más antiguos en matemáticas. Concretamente, G.H. Hardy, en 1921, en su famoso discurso pronunciado en la Sociedad Matemática de Copenhague, comentó que probablemente la conjetura de Goldbach no es solo uno de los problemas no resueltos más difíciles de la teoría de números, sino de todas las matemáticas. Su enunciado es el siguiente:\n",
        "\n",
        "> Todo número par mayor que 2 puede escribirse como suma de dos números primos - Christian Goldbach (1742)\n",
        "\n",
        "Implemente una función llamada `goldbach` cuyo input sea un número natural positivo $n$ y como output devuelva la suma de dos primos ($n_1$ y $n_2$) tal que: $n_1+n_2=n$.\n",
        "\n",
        "Para esto:\n",
        "\n",
        "* a) Defina la función `es_primo`, donde la entrada sea un número natural $n$ y la salida sea **True** si el número es primo y **False** en otro caso.\n",
        "    * **Ejemplo**: *es_primo(3)* = True, *es_primo(4)* = False\n",
        "    \n",
        "    \n",
        "* b)  Defina la función `lista_de_primos`, donde la entrada sea un número natural par $n$ mayor que dos y la salida sea una lista con todos los número primos entre 2 y $n$.\n",
        "    * **Ejemplo**: *lista_de_primos(4)* = [2,3], *lista_de_primos(6)* = [2,3,5], *lista_de_primos(8)* = [2,3,5,7]\n",
        "\n",
        "\n",
        "* c) Ocupe la función `lista_de_primos` dentro de la función `goldbash`.\n",
        " * **Ejemplo**: goldbash(4) = (2,2), goldbash(6) = (3,3) , goldbash(8) = (3,5)"
      ]
    },
    {
      "cell_type": "code",
      "execution_count": 27,
      "id": "cccb4ae0",
      "metadata": {
        "id": "cccb4ae0",
        "outputId": "24da198d-6ca7-4b81-fb49-b041c933a0de",
        "colab": {
          "base_uri": "https://localhost:8080/"
        }
      },
      "outputs": [
        {
          "output_type": "stream",
          "name": "stdout",
          "text": [
            "True\n",
            "False\n",
            "ingrese numero natural para saber si es primo: 9\n",
            "False\n",
            "[2, 3]\n",
            "[2, 3, 5]\n",
            "[2, 3, 5, 7]\n",
            "ingrese numero natural para tener una lista con todos los numeros primos menores que este: 10\n",
            "[2, 3, 5, 7]\n",
            "(2, 2)\n",
            "(3, 3)\n",
            "(3, 5)\n",
            "ingrese numero natural para saber que 2 numeros primo sumados resultan el entregado: 556\n",
            "(47, 509)\n"
          ]
        }
      ],
      "source": [
        "def es_primo(n): #la funcion toma un numero natural y lo divide por todos los numeros que son menor que la mitad de este,\n",
        "                 #si se cumple entonces es primo y retorna True\n",
        "  if n==3 or n==2:\n",
        "    return True\n",
        "  for i in range(2,(n//2)+1):\n",
        "    if n%i == 0:\n",
        "      return False\n",
        "    elif i == n//2:\n",
        "      return True\n",
        "\n",
        "print(es_primo(3))\n",
        "print(es_primo(4))\n",
        "n=input(\"ingrese numero natural para saber si es primo: \")\n",
        "print(es_primo(int(n)))\n",
        "\n",
        "def lista_de_primos(n): #la funcion toma un numero natural y retorna una lista con todos los numeros primos menores que este\n",
        "  list_prim=[]\n",
        "  for i in range(2,n):\n",
        "    if es_primo(i):\n",
        "      list_prim.append(i)\n",
        "  return list_prim\n",
        "\n",
        "print(lista_de_primos(4))\n",
        "print(lista_de_primos(6))\n",
        "print(lista_de_primos(8))\n",
        "m=input(\"ingrese numero natural para tener una lista con todos los numeros primos menores que este: \")\n",
        "print(lista_de_primos(int(m)))\n",
        "def goldbash(n): #la funcion toma un natural par mayor que 2 y calcula que par de numeros primos\n",
        "                 #cumplen que su suma es igual al numero entregado\n",
        "  list_prim=lista_de_primos(n)\n",
        "  for i in list_prim:\n",
        "    for j in list_prim:\n",
        "      if i+j==n:\n",
        "        return (i,j)\n",
        "  else:\n",
        "    return False\n",
        "\n",
        "print(goldbash(4))\n",
        "print(goldbash(6))\n",
        "print(goldbash(8))\n",
        "\n",
        "k=input(\"ingrese numero natural para saber que 2 numeros primo sumados resultan el entregado: \")\n",
        "print(goldbash(int(k)))"
      ]
    }
  ],
  "metadata": {
    "kernelspec": {
      "display_name": "Python 3 (ipykernel)",
      "language": "python",
      "name": "python3"
    },
    "language_info": {
      "codemirror_mode": {
        "name": "ipython",
        "version": 3
      },
      "file_extension": ".py",
      "mimetype": "text/x-python",
      "name": "python",
      "nbconvert_exporter": "python",
      "pygments_lexer": "ipython3",
      "version": "3.8.10"
    },
    "colab": {
      "provenance": []
    }
  },
  "nbformat": 4,
  "nbformat_minor": 5
}