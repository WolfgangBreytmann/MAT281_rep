{
 "cells": [
  {
   "cell_type": "markdown",
   "id": "5ce90c3b",
   "metadata": {
    "id": "5ce90c3b"
   },
   "source": [
    "<a href=\"https://colab.research.google.com/github/fralfaro/MAT281_2023/blob/main/docs/labs/lab_072.ipynb\" target=\"_parent\"><img src=\"https://colab.research.google.com/assets/colab-badge.svg\" alt=\"Open In Colab\"/></a>\n",
    "\n",
    "# MAT281 - Laboratorio N°072\n",
    "\n",
    "\n",
    "<a id='p1'></a>\n",
    "## I.- Problema 01\n",
    "\n",
    "\n",
    "<img src=\"https://drive.google.com/uc?export=view&id=1hG9C4e6Tisw2VTEatGkP_hRmnZNpbXK4\" width = \"300\" align=\"center\"/>\n"
   ]
  },
  {
   "cell_type": "markdown",
   "id": "97d33fad",
   "metadata": {
    "id": "97d33fad"
   },
   "source": [
    "El objetivo es a partir de los datos, hacer la mejor predicción de cada imagen. Para ellos es necesario realizar los pasos clásicos de un proyecto de _Machine Learning_, como estadística descriptiva, visualización y preprocesamiento.\n",
    "\n",
    "* Se solicita ajustar al menos tres modelos de clasificación:\n",
    "     * Regresión logística\n",
    "     * K-Nearest Neighbours\n",
    "     * Uno o más algoritmos a su elección [link](https://scikit-learn.org/stable/supervised_learning.html#supervised-learning).\n",
    "\n",
    "* Realizar una predicción con cada uno de los tres modelos con los datos _test_ y obtener el _score_.\n",
    "* Analizar sus métricas de error (**accuracy**, **precision**, **recall**, **f-score**)"
   ]
  },
  {
   "cell_type": "markdown",
   "id": "e2c4e7ea",
   "metadata": {
    "id": "e2c4e7ea"
   },
   "source": [
    "### Exploración de los datos\n",
    "A continuación se carga el conjunto de datos a utilizar, a través del sub-módulo `datasets` de `sklearn`."
   ]
  },
  {
   "cell_type": "code",
   "execution_count": 23,
   "id": "017c133d",
   "metadata": {
    "id": "017c133d"
   },
   "outputs": [],
   "source": [
    "import numpy as np\n",
    "import pandas as pd\n",
    "from sklearn import datasets\n",
    "import matplotlib.pyplot as plt\n",
    "import time\n",
    "%matplotlib inline"
   ]
  },
  {
   "cell_type": "code",
   "execution_count": 2,
   "id": "4c20a1b9",
   "metadata": {
    "colab": {
     "base_uri": "https://localhost:8080/"
    },
    "id": "4c20a1b9",
    "outputId": "26910143-d6dd-4f01-a234-166e2a20288a"
   },
   "outputs": [
    {
     "name": "stdout",
     "output_type": "stream",
     "text": [
      ".. _digits_dataset:\n",
      "\n",
      "Optical recognition of handwritten digits dataset\n",
      "--------------------------------------------------\n",
      "\n",
      "**Data Set Characteristics:**\n",
      "\n",
      "    :Number of Instances: 1797\n",
      "    :Number of Attributes: 64\n",
      "    :Attribute Information: 8x8 image of integer pixels in the range 0..16.\n",
      "    :Missing Attribute Values: None\n",
      "    :Creator: E. Alpaydin (alpaydin '@' boun.edu.tr)\n",
      "    :Date: July; 1998\n",
      "\n",
      "This is a copy of the test set of the UCI ML hand-written digits datasets\n",
      "https://archive.ics.uci.edu/ml/datasets/Optical+Recognition+of+Handwritten+Digits\n",
      "\n",
      "The data set contains images of hand-written digits: 10 classes where\n",
      "each class refers to a digit.\n",
      "\n",
      "Preprocessing programs made available by NIST were used to extract\n",
      "normalized bitmaps of handwritten digits from a preprinted form. From a\n",
      "total of 43 people, 30 contributed to the training set and different 13\n",
      "to the test set. 32x32 bitmaps are divided into nonoverlapping blocks of\n",
      "4x4 and the number of on pixels are counted in each block. This generates\n",
      "an input matrix of 8x8 where each element is an integer in the range\n",
      "0..16. This reduces dimensionality and gives invariance to small\n",
      "distortions.\n",
      "\n",
      "For info on NIST preprocessing routines, see M. D. Garris, J. L. Blue, G.\n",
      "T. Candela, D. L. Dimmick, J. Geist, P. J. Grother, S. A. Janet, and C.\n",
      "L. Wilson, NIST Form-Based Handprint Recognition System, NISTIR 5469,\n",
      "1994.\n",
      "\n",
      ".. topic:: References\n",
      "\n",
      "  - C. Kaynak (1995) Methods of Combining Multiple Classifiers and Their\n",
      "    Applications to Handwritten Digit Recognition, MSc Thesis, Institute of\n",
      "    Graduate Studies in Science and Engineering, Bogazici University.\n",
      "  - E. Alpaydin, C. Kaynak (1998) Cascading Classifiers, Kybernetika.\n",
      "  - Ken Tang and Ponnuthurai N. Suganthan and Xi Yao and A. Kai Qin.\n",
      "    Linear dimensionalityreduction using relevance weighted LDA. School of\n",
      "    Electrical and Electronic Engineering Nanyang Technological University.\n",
      "    2005.\n",
      "  - Claudio Gentile. A New Approximate Maximal Margin Classification\n",
      "    Algorithm. NIPS. 2000.\n",
      "\n"
     ]
    }
   ],
   "source": [
    "digits_dict = datasets.load_digits()\n",
    "print(digits_dict[\"DESCR\"])"
   ]
  },
  {
   "cell_type": "code",
   "execution_count": 3,
   "id": "eb5e310c",
   "metadata": {
    "colab": {
     "base_uri": "https://localhost:8080/"
    },
    "id": "eb5e310c",
    "outputId": "26ffe24e-2650-48b3-f09a-518ebad5ac0d"
   },
   "outputs": [
    {
     "data": {
      "text/plain": [
       "dict_keys(['data', 'target', 'frame', 'feature_names', 'target_names', 'images', 'DESCR'])"
      ]
     },
     "execution_count": 3,
     "metadata": {},
     "output_type": "execute_result"
    }
   ],
   "source": [
    "# informacion de las columnas\n",
    "digits_dict.keys()"
   ]
  },
  {
   "cell_type": "code",
   "execution_count": 4,
   "id": "3214cfd9",
   "metadata": {
    "colab": {
     "base_uri": "https://localhost:8080/"
    },
    "id": "3214cfd9",
    "outputId": "0e9a914c-de83-49c9-ac13-e510a209252c"
   },
   "outputs": [
    {
     "data": {
      "text/plain": [
       "array([0, 1, 2, ..., 8, 9, 8])"
      ]
     },
     "execution_count": 4,
     "metadata": {},
     "output_type": "execute_result"
    }
   ],
   "source": [
    "# informacion del target\n",
    "digits_dict[\"target\"]"
   ]
  },
  {
   "cell_type": "markdown",
   "id": "698e2e43",
   "metadata": {
    "id": "698e2e43"
   },
   "source": [
    "A continuación se crea dataframe declarado como `digits` con los datos de `digits_dict` tal que tenga 65 columnas, las 6 primeras a la representación de la imagen en escala de grises (0-blanco, 255-negro) y la última correspondiente al dígito (`target`) con el nombre _target_."
   ]
  },
  {
   "cell_type": "code",
   "execution_count": 5,
   "id": "a2018b00",
   "metadata": {
    "colab": {
     "base_uri": "https://localhost:8080/",
     "height": 235
    },
    "id": "a2018b00",
    "outputId": "51a9a4d4-b8a8-4c45-9af1-6e14e02bac87"
   },
   "outputs": [
    {
     "data": {
      "text/html": [
       "<div>\n",
       "<style scoped>\n",
       "    .dataframe tbody tr th:only-of-type {\n",
       "        vertical-align: middle;\n",
       "    }\n",
       "\n",
       "    .dataframe tbody tr th {\n",
       "        vertical-align: top;\n",
       "    }\n",
       "\n",
       "    .dataframe thead th {\n",
       "        text-align: right;\n",
       "    }\n",
       "</style>\n",
       "<table border=\"1\" class=\"dataframe\">\n",
       "  <thead>\n",
       "    <tr style=\"text-align: right;\">\n",
       "      <th></th>\n",
       "      <th>c00</th>\n",
       "      <th>c01</th>\n",
       "      <th>c02</th>\n",
       "      <th>c03</th>\n",
       "      <th>c04</th>\n",
       "      <th>c05</th>\n",
       "      <th>c06</th>\n",
       "      <th>c07</th>\n",
       "      <th>c08</th>\n",
       "      <th>c09</th>\n",
       "      <th>...</th>\n",
       "      <th>c55</th>\n",
       "      <th>c56</th>\n",
       "      <th>c57</th>\n",
       "      <th>c58</th>\n",
       "      <th>c59</th>\n",
       "      <th>c60</th>\n",
       "      <th>c61</th>\n",
       "      <th>c62</th>\n",
       "      <th>c63</th>\n",
       "      <th>target</th>\n",
       "    </tr>\n",
       "  </thead>\n",
       "  <tbody>\n",
       "    <tr>\n",
       "      <th>0</th>\n",
       "      <td>0</td>\n",
       "      <td>0</td>\n",
       "      <td>5</td>\n",
       "      <td>13</td>\n",
       "      <td>9</td>\n",
       "      <td>1</td>\n",
       "      <td>0</td>\n",
       "      <td>0</td>\n",
       "      <td>0</td>\n",
       "      <td>0</td>\n",
       "      <td>...</td>\n",
       "      <td>0</td>\n",
       "      <td>0</td>\n",
       "      <td>0</td>\n",
       "      <td>6</td>\n",
       "      <td>13</td>\n",
       "      <td>10</td>\n",
       "      <td>0</td>\n",
       "      <td>0</td>\n",
       "      <td>0</td>\n",
       "      <td>0</td>\n",
       "    </tr>\n",
       "    <tr>\n",
       "      <th>1</th>\n",
       "      <td>0</td>\n",
       "      <td>0</td>\n",
       "      <td>0</td>\n",
       "      <td>12</td>\n",
       "      <td>13</td>\n",
       "      <td>5</td>\n",
       "      <td>0</td>\n",
       "      <td>0</td>\n",
       "      <td>0</td>\n",
       "      <td>0</td>\n",
       "      <td>...</td>\n",
       "      <td>0</td>\n",
       "      <td>0</td>\n",
       "      <td>0</td>\n",
       "      <td>0</td>\n",
       "      <td>11</td>\n",
       "      <td>16</td>\n",
       "      <td>10</td>\n",
       "      <td>0</td>\n",
       "      <td>0</td>\n",
       "      <td>1</td>\n",
       "    </tr>\n",
       "    <tr>\n",
       "      <th>2</th>\n",
       "      <td>0</td>\n",
       "      <td>0</td>\n",
       "      <td>0</td>\n",
       "      <td>4</td>\n",
       "      <td>15</td>\n",
       "      <td>12</td>\n",
       "      <td>0</td>\n",
       "      <td>0</td>\n",
       "      <td>0</td>\n",
       "      <td>0</td>\n",
       "      <td>...</td>\n",
       "      <td>0</td>\n",
       "      <td>0</td>\n",
       "      <td>0</td>\n",
       "      <td>0</td>\n",
       "      <td>3</td>\n",
       "      <td>11</td>\n",
       "      <td>16</td>\n",
       "      <td>9</td>\n",
       "      <td>0</td>\n",
       "      <td>2</td>\n",
       "    </tr>\n",
       "    <tr>\n",
       "      <th>3</th>\n",
       "      <td>0</td>\n",
       "      <td>0</td>\n",
       "      <td>7</td>\n",
       "      <td>15</td>\n",
       "      <td>13</td>\n",
       "      <td>1</td>\n",
       "      <td>0</td>\n",
       "      <td>0</td>\n",
       "      <td>0</td>\n",
       "      <td>8</td>\n",
       "      <td>...</td>\n",
       "      <td>0</td>\n",
       "      <td>0</td>\n",
       "      <td>0</td>\n",
       "      <td>7</td>\n",
       "      <td>13</td>\n",
       "      <td>13</td>\n",
       "      <td>9</td>\n",
       "      <td>0</td>\n",
       "      <td>0</td>\n",
       "      <td>3</td>\n",
       "    </tr>\n",
       "    <tr>\n",
       "      <th>4</th>\n",
       "      <td>0</td>\n",
       "      <td>0</td>\n",
       "      <td>0</td>\n",
       "      <td>1</td>\n",
       "      <td>11</td>\n",
       "      <td>0</td>\n",
       "      <td>0</td>\n",
       "      <td>0</td>\n",
       "      <td>0</td>\n",
       "      <td>0</td>\n",
       "      <td>...</td>\n",
       "      <td>0</td>\n",
       "      <td>0</td>\n",
       "      <td>0</td>\n",
       "      <td>0</td>\n",
       "      <td>2</td>\n",
       "      <td>16</td>\n",
       "      <td>4</td>\n",
       "      <td>0</td>\n",
       "      <td>0</td>\n",
       "      <td>4</td>\n",
       "    </tr>\n",
       "  </tbody>\n",
       "</table>\n",
       "<p>5 rows × 65 columns</p>\n",
       "</div>"
      ],
      "text/plain": [
       "   c00  c01  c02  c03  c04  c05  c06  c07  c08  c09  ...  c55  c56  c57  c58  \\\n",
       "0    0    0    5   13    9    1    0    0    0    0  ...    0    0    0    6   \n",
       "1    0    0    0   12   13    5    0    0    0    0  ...    0    0    0    0   \n",
       "2    0    0    0    4   15   12    0    0    0    0  ...    0    0    0    0   \n",
       "3    0    0    7   15   13    1    0    0    0    8  ...    0    0    0    7   \n",
       "4    0    0    0    1   11    0    0    0    0    0  ...    0    0    0    0   \n",
       "\n",
       "   c59  c60  c61  c62  c63  target  \n",
       "0   13   10    0    0    0       0  \n",
       "1   11   16   10    0    0       1  \n",
       "2    3   11   16    9    0       2  \n",
       "3   13   13    9    0    0       3  \n",
       "4    2   16    4    0    0       4  \n",
       "\n",
       "[5 rows x 65 columns]"
      ]
     },
     "execution_count": 5,
     "metadata": {},
     "output_type": "execute_result"
    }
   ],
   "source": [
    "# leer datos\n",
    "digits = (\n",
    "    pd.DataFrame(\n",
    "        digits_dict[\"data\"],\n",
    "    )\n",
    "    .rename(columns=lambda x: f\"c{x:02d}\")\n",
    "    .assign(target=digits_dict[\"target\"])\n",
    "    .astype(int)\n",
    ")\n",
    "\n",
    "digits.head()"
   ]
  },
  {
   "cell_type": "markdown",
   "id": "11767261",
   "metadata": {
    "id": "11767261"
   },
   "source": [
    "### Ejercicio 1\n",
    "**Análisis exploratorio:** Realiza tu análisis exploratorio, no debes olvidar nada! Recuerda, cada análisis debe responder una pregunta.\n",
    "\n",
    "Algunas sugerencias:\n",
    "\n",
    "* ¿Cómo se distribuyen los datos?\n",
    "* ¿Cuánta memoria estoy utilizando?\n",
    "* ¿Qué tipo de datos son?\n",
    "* ¿Cuántos registros por clase hay?\n",
    "* ¿Hay registros que no se correspondan con tu conocimiento previo de los datos?"
   ]
  },
  {
   "cell_type": "code",
   "execution_count": 6,
   "id": "2cd3eb53",
   "metadata": {
    "colab": {
     "base_uri": "https://localhost:8080/",
     "height": 349
    },
    "id": "2cd3eb53",
    "outputId": "20698720-bbf5-4bad-d4fb-0a0a75d1acb8"
   },
   "outputs": [
    {
     "data": {
      "text/html": [
       "<div>\n",
       "<style scoped>\n",
       "    .dataframe tbody tr th:only-of-type {\n",
       "        vertical-align: middle;\n",
       "    }\n",
       "\n",
       "    .dataframe tbody tr th {\n",
       "        vertical-align: top;\n",
       "    }\n",
       "\n",
       "    .dataframe thead th {\n",
       "        text-align: right;\n",
       "    }\n",
       "</style>\n",
       "<table border=\"1\" class=\"dataframe\">\n",
       "  <thead>\n",
       "    <tr style=\"text-align: right;\">\n",
       "      <th></th>\n",
       "      <th>c00</th>\n",
       "      <th>c01</th>\n",
       "      <th>c02</th>\n",
       "      <th>c03</th>\n",
       "      <th>c04</th>\n",
       "      <th>c05</th>\n",
       "      <th>c06</th>\n",
       "      <th>c07</th>\n",
       "      <th>c08</th>\n",
       "      <th>c09</th>\n",
       "      <th>...</th>\n",
       "      <th>c55</th>\n",
       "      <th>c56</th>\n",
       "      <th>c57</th>\n",
       "      <th>c58</th>\n",
       "      <th>c59</th>\n",
       "      <th>c60</th>\n",
       "      <th>c61</th>\n",
       "      <th>c62</th>\n",
       "      <th>c63</th>\n",
       "      <th>target</th>\n",
       "    </tr>\n",
       "  </thead>\n",
       "  <tbody>\n",
       "    <tr>\n",
       "      <th>count</th>\n",
       "      <td>1797.0</td>\n",
       "      <td>1797.000000</td>\n",
       "      <td>1797.000000</td>\n",
       "      <td>1797.000000</td>\n",
       "      <td>1797.000000</td>\n",
       "      <td>1797.000000</td>\n",
       "      <td>1797.000000</td>\n",
       "      <td>1797.000000</td>\n",
       "      <td>1797.000000</td>\n",
       "      <td>1797.000000</td>\n",
       "      <td>...</td>\n",
       "      <td>1797.000000</td>\n",
       "      <td>1797.000000</td>\n",
       "      <td>1797.000000</td>\n",
       "      <td>1797.000000</td>\n",
       "      <td>1797.000000</td>\n",
       "      <td>1797.000000</td>\n",
       "      <td>1797.000000</td>\n",
       "      <td>1797.000000</td>\n",
       "      <td>1797.000000</td>\n",
       "      <td>1797.000000</td>\n",
       "    </tr>\n",
       "    <tr>\n",
       "      <th>mean</th>\n",
       "      <td>0.0</td>\n",
       "      <td>0.303840</td>\n",
       "      <td>5.204786</td>\n",
       "      <td>11.835838</td>\n",
       "      <td>11.848080</td>\n",
       "      <td>5.781859</td>\n",
       "      <td>1.362270</td>\n",
       "      <td>0.129661</td>\n",
       "      <td>0.005565</td>\n",
       "      <td>1.993879</td>\n",
       "      <td>...</td>\n",
       "      <td>0.206455</td>\n",
       "      <td>0.000556</td>\n",
       "      <td>0.279354</td>\n",
       "      <td>5.557596</td>\n",
       "      <td>12.089037</td>\n",
       "      <td>11.809126</td>\n",
       "      <td>6.764051</td>\n",
       "      <td>2.067891</td>\n",
       "      <td>0.364496</td>\n",
       "      <td>4.490818</td>\n",
       "    </tr>\n",
       "    <tr>\n",
       "      <th>std</th>\n",
       "      <td>0.0</td>\n",
       "      <td>0.907192</td>\n",
       "      <td>4.754826</td>\n",
       "      <td>4.248842</td>\n",
       "      <td>4.287388</td>\n",
       "      <td>5.666418</td>\n",
       "      <td>3.325775</td>\n",
       "      <td>1.037383</td>\n",
       "      <td>0.094222</td>\n",
       "      <td>3.196160</td>\n",
       "      <td>...</td>\n",
       "      <td>0.984401</td>\n",
       "      <td>0.023590</td>\n",
       "      <td>0.934302</td>\n",
       "      <td>5.103019</td>\n",
       "      <td>4.374694</td>\n",
       "      <td>4.933947</td>\n",
       "      <td>5.900623</td>\n",
       "      <td>4.090548</td>\n",
       "      <td>1.860122</td>\n",
       "      <td>2.865304</td>\n",
       "    </tr>\n",
       "    <tr>\n",
       "      <th>min</th>\n",
       "      <td>0.0</td>\n",
       "      <td>0.000000</td>\n",
       "      <td>0.000000</td>\n",
       "      <td>0.000000</td>\n",
       "      <td>0.000000</td>\n",
       "      <td>0.000000</td>\n",
       "      <td>0.000000</td>\n",
       "      <td>0.000000</td>\n",
       "      <td>0.000000</td>\n",
       "      <td>0.000000</td>\n",
       "      <td>...</td>\n",
       "      <td>0.000000</td>\n",
       "      <td>0.000000</td>\n",
       "      <td>0.000000</td>\n",
       "      <td>0.000000</td>\n",
       "      <td>0.000000</td>\n",
       "      <td>0.000000</td>\n",
       "      <td>0.000000</td>\n",
       "      <td>0.000000</td>\n",
       "      <td>0.000000</td>\n",
       "      <td>0.000000</td>\n",
       "    </tr>\n",
       "    <tr>\n",
       "      <th>25%</th>\n",
       "      <td>0.0</td>\n",
       "      <td>0.000000</td>\n",
       "      <td>1.000000</td>\n",
       "      <td>10.000000</td>\n",
       "      <td>10.000000</td>\n",
       "      <td>0.000000</td>\n",
       "      <td>0.000000</td>\n",
       "      <td>0.000000</td>\n",
       "      <td>0.000000</td>\n",
       "      <td>0.000000</td>\n",
       "      <td>...</td>\n",
       "      <td>0.000000</td>\n",
       "      <td>0.000000</td>\n",
       "      <td>0.000000</td>\n",
       "      <td>1.000000</td>\n",
       "      <td>11.000000</td>\n",
       "      <td>10.000000</td>\n",
       "      <td>0.000000</td>\n",
       "      <td>0.000000</td>\n",
       "      <td>0.000000</td>\n",
       "      <td>2.000000</td>\n",
       "    </tr>\n",
       "    <tr>\n",
       "      <th>50%</th>\n",
       "      <td>0.0</td>\n",
       "      <td>0.000000</td>\n",
       "      <td>4.000000</td>\n",
       "      <td>13.000000</td>\n",
       "      <td>13.000000</td>\n",
       "      <td>4.000000</td>\n",
       "      <td>0.000000</td>\n",
       "      <td>0.000000</td>\n",
       "      <td>0.000000</td>\n",
       "      <td>0.000000</td>\n",
       "      <td>...</td>\n",
       "      <td>0.000000</td>\n",
       "      <td>0.000000</td>\n",
       "      <td>0.000000</td>\n",
       "      <td>4.000000</td>\n",
       "      <td>13.000000</td>\n",
       "      <td>14.000000</td>\n",
       "      <td>6.000000</td>\n",
       "      <td>0.000000</td>\n",
       "      <td>0.000000</td>\n",
       "      <td>4.000000</td>\n",
       "    </tr>\n",
       "    <tr>\n",
       "      <th>75%</th>\n",
       "      <td>0.0</td>\n",
       "      <td>0.000000</td>\n",
       "      <td>9.000000</td>\n",
       "      <td>15.000000</td>\n",
       "      <td>15.000000</td>\n",
       "      <td>11.000000</td>\n",
       "      <td>0.000000</td>\n",
       "      <td>0.000000</td>\n",
       "      <td>0.000000</td>\n",
       "      <td>3.000000</td>\n",
       "      <td>...</td>\n",
       "      <td>0.000000</td>\n",
       "      <td>0.000000</td>\n",
       "      <td>0.000000</td>\n",
       "      <td>10.000000</td>\n",
       "      <td>16.000000</td>\n",
       "      <td>16.000000</td>\n",
       "      <td>12.000000</td>\n",
       "      <td>2.000000</td>\n",
       "      <td>0.000000</td>\n",
       "      <td>7.000000</td>\n",
       "    </tr>\n",
       "    <tr>\n",
       "      <th>max</th>\n",
       "      <td>0.0</td>\n",
       "      <td>8.000000</td>\n",
       "      <td>16.000000</td>\n",
       "      <td>16.000000</td>\n",
       "      <td>16.000000</td>\n",
       "      <td>16.000000</td>\n",
       "      <td>16.000000</td>\n",
       "      <td>15.000000</td>\n",
       "      <td>2.000000</td>\n",
       "      <td>16.000000</td>\n",
       "      <td>...</td>\n",
       "      <td>13.000000</td>\n",
       "      <td>1.000000</td>\n",
       "      <td>9.000000</td>\n",
       "      <td>16.000000</td>\n",
       "      <td>16.000000</td>\n",
       "      <td>16.000000</td>\n",
       "      <td>16.000000</td>\n",
       "      <td>16.000000</td>\n",
       "      <td>16.000000</td>\n",
       "      <td>9.000000</td>\n",
       "    </tr>\n",
       "  </tbody>\n",
       "</table>\n",
       "<p>8 rows × 65 columns</p>\n",
       "</div>"
      ],
      "text/plain": [
       "          c00          c01          c02          c03          c04  \\\n",
       "count  1797.0  1797.000000  1797.000000  1797.000000  1797.000000   \n",
       "mean      0.0     0.303840     5.204786    11.835838    11.848080   \n",
       "std       0.0     0.907192     4.754826     4.248842     4.287388   \n",
       "min       0.0     0.000000     0.000000     0.000000     0.000000   \n",
       "25%       0.0     0.000000     1.000000    10.000000    10.000000   \n",
       "50%       0.0     0.000000     4.000000    13.000000    13.000000   \n",
       "75%       0.0     0.000000     9.000000    15.000000    15.000000   \n",
       "max       0.0     8.000000    16.000000    16.000000    16.000000   \n",
       "\n",
       "               c05          c06          c07          c08          c09  ...  \\\n",
       "count  1797.000000  1797.000000  1797.000000  1797.000000  1797.000000  ...   \n",
       "mean      5.781859     1.362270     0.129661     0.005565     1.993879  ...   \n",
       "std       5.666418     3.325775     1.037383     0.094222     3.196160  ...   \n",
       "min       0.000000     0.000000     0.000000     0.000000     0.000000  ...   \n",
       "25%       0.000000     0.000000     0.000000     0.000000     0.000000  ...   \n",
       "50%       4.000000     0.000000     0.000000     0.000000     0.000000  ...   \n",
       "75%      11.000000     0.000000     0.000000     0.000000     3.000000  ...   \n",
       "max      16.000000    16.000000    15.000000     2.000000    16.000000  ...   \n",
       "\n",
       "               c55          c56          c57          c58          c59  \\\n",
       "count  1797.000000  1797.000000  1797.000000  1797.000000  1797.000000   \n",
       "mean      0.206455     0.000556     0.279354     5.557596    12.089037   \n",
       "std       0.984401     0.023590     0.934302     5.103019     4.374694   \n",
       "min       0.000000     0.000000     0.000000     0.000000     0.000000   \n",
       "25%       0.000000     0.000000     0.000000     1.000000    11.000000   \n",
       "50%       0.000000     0.000000     0.000000     4.000000    13.000000   \n",
       "75%       0.000000     0.000000     0.000000    10.000000    16.000000   \n",
       "max      13.000000     1.000000     9.000000    16.000000    16.000000   \n",
       "\n",
       "               c60          c61          c62          c63       target  \n",
       "count  1797.000000  1797.000000  1797.000000  1797.000000  1797.000000  \n",
       "mean     11.809126     6.764051     2.067891     0.364496     4.490818  \n",
       "std       4.933947     5.900623     4.090548     1.860122     2.865304  \n",
       "min       0.000000     0.000000     0.000000     0.000000     0.000000  \n",
       "25%      10.000000     0.000000     0.000000     0.000000     2.000000  \n",
       "50%      14.000000     6.000000     0.000000     0.000000     4.000000  \n",
       "75%      16.000000    12.000000     2.000000     0.000000     7.000000  \n",
       "max      16.000000    16.000000    16.000000    16.000000     9.000000  \n",
       "\n",
       "[8 rows x 65 columns]"
      ]
     },
     "execution_count": 6,
     "metadata": {},
     "output_type": "execute_result"
    }
   ],
   "source": [
    "digits.describe()"
   ]
  },
  {
   "cell_type": "markdown",
   "id": "9193d07c",
   "metadata": {},
   "source": [
    "Los datos son filas de 64 (iamgen de 8x8) valores numericos que indica el color del pixel (cuando se transfoma en imagen) en tonos de negro"
   ]
  },
  {
   "cell_type": "code",
   "execution_count": 7,
   "id": "h5_QpMdoGx4Z",
   "metadata": {
    "colab": {
     "base_uri": "https://localhost:8080/"
    },
    "id": "h5_QpMdoGx4Z",
    "outputId": "91db346e-5526-4611-c27b-ab8dbf40ae32"
   },
   "outputs": [
    {
     "name": "stdout",
     "output_type": "stream",
     "text": [
      "<class 'pandas.core.frame.DataFrame'>\n",
      "RangeIndex: 1797 entries, 0 to 1796\n",
      "Data columns (total 65 columns):\n",
      " #   Column  Non-Null Count  Dtype\n",
      "---  ------  --------------  -----\n",
      " 0   c00     1797 non-null   int32\n",
      " 1   c01     1797 non-null   int32\n",
      " 2   c02     1797 non-null   int32\n",
      " 3   c03     1797 non-null   int32\n",
      " 4   c04     1797 non-null   int32\n",
      " 5   c05     1797 non-null   int32\n",
      " 6   c06     1797 non-null   int32\n",
      " 7   c07     1797 non-null   int32\n",
      " 8   c08     1797 non-null   int32\n",
      " 9   c09     1797 non-null   int32\n",
      " 10  c10     1797 non-null   int32\n",
      " 11  c11     1797 non-null   int32\n",
      " 12  c12     1797 non-null   int32\n",
      " 13  c13     1797 non-null   int32\n",
      " 14  c14     1797 non-null   int32\n",
      " 15  c15     1797 non-null   int32\n",
      " 16  c16     1797 non-null   int32\n",
      " 17  c17     1797 non-null   int32\n",
      " 18  c18     1797 non-null   int32\n",
      " 19  c19     1797 non-null   int32\n",
      " 20  c20     1797 non-null   int32\n",
      " 21  c21     1797 non-null   int32\n",
      " 22  c22     1797 non-null   int32\n",
      " 23  c23     1797 non-null   int32\n",
      " 24  c24     1797 non-null   int32\n",
      " 25  c25     1797 non-null   int32\n",
      " 26  c26     1797 non-null   int32\n",
      " 27  c27     1797 non-null   int32\n",
      " 28  c28     1797 non-null   int32\n",
      " 29  c29     1797 non-null   int32\n",
      " 30  c30     1797 non-null   int32\n",
      " 31  c31     1797 non-null   int32\n",
      " 32  c32     1797 non-null   int32\n",
      " 33  c33     1797 non-null   int32\n",
      " 34  c34     1797 non-null   int32\n",
      " 35  c35     1797 non-null   int32\n",
      " 36  c36     1797 non-null   int32\n",
      " 37  c37     1797 non-null   int32\n",
      " 38  c38     1797 non-null   int32\n",
      " 39  c39     1797 non-null   int32\n",
      " 40  c40     1797 non-null   int32\n",
      " 41  c41     1797 non-null   int32\n",
      " 42  c42     1797 non-null   int32\n",
      " 43  c43     1797 non-null   int32\n",
      " 44  c44     1797 non-null   int32\n",
      " 45  c45     1797 non-null   int32\n",
      " 46  c46     1797 non-null   int32\n",
      " 47  c47     1797 non-null   int32\n",
      " 48  c48     1797 non-null   int32\n",
      " 49  c49     1797 non-null   int32\n",
      " 50  c50     1797 non-null   int32\n",
      " 51  c51     1797 non-null   int32\n",
      " 52  c52     1797 non-null   int32\n",
      " 53  c53     1797 non-null   int32\n",
      " 54  c54     1797 non-null   int32\n",
      " 55  c55     1797 non-null   int32\n",
      " 56  c56     1797 non-null   int32\n",
      " 57  c57     1797 non-null   int32\n",
      " 58  c58     1797 non-null   int32\n",
      " 59  c59     1797 non-null   int32\n",
      " 60  c60     1797 non-null   int32\n",
      " 61  c61     1797 non-null   int32\n",
      " 62  c62     1797 non-null   int32\n",
      " 63  c63     1797 non-null   int32\n",
      " 64  target  1797 non-null   int32\n",
      "dtypes: int32(65)\n",
      "memory usage: 456.4 KB\n"
     ]
    }
   ],
   "source": [
    "digits.info()"
   ]
  },
  {
   "cell_type": "markdown",
   "id": "639d5wwJS0lY",
   "metadata": {
    "id": "639d5wwJS0lY"
   },
   "source": [
    "Se esta ultilizando 912.7 KB de memoria y los datos son de tipo int64"
   ]
  },
  {
   "cell_type": "code",
   "execution_count": 8,
   "id": "GKEnavRDG0Vl",
   "metadata": {
    "colab": {
     "base_uri": "https://localhost:8080/"
    },
    "id": "GKEnavRDG0Vl",
    "outputId": "9fabc781-070b-4553-aae0-8b20d1034505"
   },
   "outputs": [
    {
     "name": "stdout",
     "output_type": "stream",
     "text": [
      "Cantidad de datos por clases:\n"
     ]
    },
    {
     "data": {
      "text/plain": [
       "3    183\n",
       "1    182\n",
       "5    182\n",
       "4    181\n",
       "6    181\n",
       "9    180\n",
       "7    179\n",
       "0    178\n",
       "2    177\n",
       "8    174\n",
       "Name: target, dtype: int64"
      ]
     },
     "execution_count": 8,
     "metadata": {},
     "output_type": "execute_result"
    }
   ],
   "source": [
    "print('Cantidad de datos por clases:')\n",
    "digits['target'].value_counts()"
   ]
  },
  {
   "cell_type": "code",
   "execution_count": 9,
   "id": "tnameC8EHEb8",
   "metadata": {
    "colab": {
     "base_uri": "https://localhost:8080/",
     "height": 410
    },
    "id": "tnameC8EHEb8",
    "outputId": "dcf38718-3264-4afb-c683-f20df553714b"
   },
   "outputs": [
    {
     "data": {
      "image/png": "[encoded data removed]",
      "text/plain": [
       "<Figure size 1000x400 with 10 Axes>"
      ]
     },
     "metadata": {},
     "output_type": "display_data"
    }
   ],
   "source": [
    "fig, axes = plt.subplots(2, 5, figsize=(10, 4))\n",
    "for i, ax in enumerate(axes.flat):\n",
    "    ax.imshow(digits.iloc[i, :-1].values.reshape(8, 8), cmap=\"gray\")\n",
    "    ax.set_title(f\"Etiqueta: {digits.iloc[i, -1]}\")\n",
    "    ax.axis(\"off\")\n",
    "plt.tight_layout()\n",
    "plt.show()"
   ]
  },
  {
   "cell_type": "markdown",
   "id": "ae90cf4c",
   "metadata": {},
   "source": [
    "Las clases estan bien etiquedados según lo que parece que es el digito"
   ]
  },
  {
   "cell_type": "markdown",
   "id": "73e45cec",
   "metadata": {
    "id": "73e45cec"
   },
   "source": [
    "### Ejercicio 2\n",
    "**Visualización:** Para visualizar los datos utilizaremos el método `imshow` de `matplotlib`. Resulta necesario convertir el arreglo desde las dimensiones (1,64)  a (8,8) para que la imagen sea cuadrada y pueda distinguirse el dígito. Superpondremos además el label correspondiente al dígito, mediante el método `text`. Esto nos permitirá comparar la imagen generada con la etiqueta asociada a los valores. Realizaremos lo anterior para los primeros 25 datos del archivo."
   ]
  },
  {
   "cell_type": "code",
   "execution_count": 10,
   "id": "f5d60d0f",
   "metadata": {
    "colab": {
     "base_uri": "https://localhost:8080/"
    },
    "id": "f5d60d0f",
    "outputId": "db0f5919-4e54-418d-e635-5c706f0d483b"
   },
   "outputs": [
    {
     "data": {
      "text/plain": [
       "array([[ 0.,  0.,  5., 13.,  9.,  1.,  0.,  0.],\n",
       "       [ 0.,  0., 13., 15., 10., 15.,  5.,  0.],\n",
       "       [ 0.,  3., 15.,  2.,  0., 11.,  8.,  0.],\n",
       "       [ 0.,  4., 12.,  0.,  0.,  8.,  8.,  0.],\n",
       "       [ 0.,  5.,  8.,  0.,  0.,  9.,  8.,  0.],\n",
       "       [ 0.,  4., 11.,  0.,  1., 12.,  7.,  0.],\n",
       "       [ 0.,  2., 14.,  5., 10., 12.,  0.,  0.],\n",
       "       [ 0.,  0.,  6., 13., 10.,  0.,  0.,  0.]])"
      ]
     },
     "execution_count": 10,
     "metadata": {},
     "output_type": "execute_result"
    }
   ],
   "source": [
    "digits_dict[\"images\"][0]"
   ]
  },
  {
   "cell_type": "markdown",
   "id": "b91c9bf4",
   "metadata": {
    "id": "b91c9bf4"
   },
   "source": [
    "Visualiza imágenes de los dígitos utilizando la llave `images` de `digits_dict`.\n",
    "\n",
    "> **Sugerencia**: Utiliza `plt.subplots` y el método `imshow`. Puedes hacer una grilla de varias imágenes al mismo tiempo!"
   ]
  },
  {
   "cell_type": "code",
   "execution_count": 11,
   "id": "4d161dae",
   "metadata": {
    "colab": {
     "base_uri": "https://localhost:8080/",
     "height": 1000
    },
    "id": "4d161dae",
    "outputId": "9078bac7-61fc-44ee-a271-58c81969829a"
   },
   "outputs": [
    {
     "data": {
      "image/png": "[encoded data removed]",
      "text/plain": [
       "<Figure size 1200x1200 with 25 Axes>"
      ]
     },
     "metadata": {},
     "output_type": "display_data"
    }
   ],
   "source": [
    "nx, ny = 5, 5\n",
    "fig, axs = plt.subplots(nx, ny, figsize=(12, 12))\n",
    "\n",
    "for i, ax in enumerate(axs.flat):\n",
    "    ax.imshow(digits_dict[\"images\"][i], cmap=\"gray\")\n",
    "    ax.set_title(f\"Label: {digits_dict['target'][i]}\")\n",
    "    ax.axis(\"off\")\n",
    "\n",
    "plt.tight_layout()\n",
    "plt.show()"
   ]
  },
  {
   "cell_type": "markdown",
   "id": "972fecb6",
   "metadata": {
    "id": "972fecb6"
   },
   "source": [
    "### Ejercicio 3\n",
    "\n",
    "**Machine Learning**: En esta parte usted debe entrenar los distintos modelos escogidos desde la librería de `skelearn`. Para cada modelo, debe realizar los siguientes pasos:\n",
    "\n",
    "* **train-test**\n",
    "     * Crear conjunto de entrenamiento y testeo (usted determine las proporciones adecuadas).\n",
    "     * Imprimir por pantalla el largo del conjunto de entrenamiento y de testeo.\n",
    "  \n",
    "* **modelo**:\n",
    "     * Instanciar el modelo objetivo desde la librería sklearn.\n",
    "\n",
    "* **Métricas**:\n",
    "     * Graficar matriz de confusión.\n",
    "     * Analizar métricas de error.\n",
    "\n",
    "\n",
    "\n",
    "__Preguntas a responder:__\n",
    "\n",
    "* ¿Cuál modelo es mejor basado en sus métricas?\n",
    "* ¿Cuál modelo demora menos tiempo en ajustarse?\n",
    "* ¿Qué modelo escoges?\n"
   ]
  },
  {
   "cell_type": "code",
   "execution_count": 12,
   "id": "Jp5L5IPHHriI",
   "metadata": {
    "id": "Jp5L5IPHHriI"
   },
   "outputs": [],
   "source": [
    "from sklearn.model_selection import train_test_split\n",
    "from sklearn.metrics import confusion_matrix, classification_report\n",
    "from sklearn.metrics import accuracy_score, recall_score, precision_score, f1_score\n",
    "from sklearn.linear_model import LogisticRegression\n",
    "from sklearn.neighbors import KNeighborsClassifier\n",
    "from sklearn.ensemble import RandomForestClassifier\n",
    "from sklearn.metrics import roc_curve, auc"
   ]
  },
  {
   "cell_type": "code",
   "execution_count": 13,
   "id": "KM3YgTrcIm8Z",
   "metadata": {
    "id": "KM3YgTrcIm8Z"
   },
   "outputs": [],
   "source": [
    "# Evaluar las métricas\n",
    "def classification_metrics(df: pd.DataFrame) -> pd.DataFrame:\n",
    "    \"\"\"\n",
    "    Aplicar las distintas métricas definidas\n",
    "    :param df: dataframe con las columnas: ['y', 'yhat']\n",
    "    :return: dataframe con las métricas especificadas\n",
    "    \"\"\"\n",
    "    y_true = df['y']\n",
    "    y_pred = df['yhat']\n",
    "\n",
    "    accuracy = round(accuracy_score(y_true, y_pred), 4)\n",
    "    recall = round(recall_score(y_true, y_pred, average='macro'), 4)\n",
    "    precision = round(precision_score(y_true, y_pred, average='macro'), 4)\n",
    "    fscore = round(f1_score(y_true, y_pred, average='macro'), 4)\n",
    "\n",
    "    df_result = pd.DataFrame({'accuracy': [accuracy],\n",
    "                              'recall': [recall],\n",
    "                              'precision': [precision],\n",
    "                              'fscore': [fscore]})\n",
    "\n",
    "    return df_result\n",
    "\n",
    "def evaluate_model(model, X_test, y_test):\n",
    "  y_pred = model.predict(X_test)\n",
    "  print(confusion_matrix(y_test,y_pred))\n",
    "  metrics_df = classification_metrics(pd.DataFrame({'y': y_test, 'yhat':y_pred}))\n",
    "  print(metrics_df)"
   ]
  },
  {
   "cell_type": "code",
   "execution_count": 14,
   "id": "81c11dae",
   "metadata": {
    "colab": {
     "base_uri": "https://localhost:8080/"
    },
    "id": "81c11dae",
    "outputId": "64258978-7103-4c80-adfc-4f04a9bb15c9"
   },
   "outputs": [
    {
     "name": "stdout",
     "output_type": "stream",
     "text": [
      "1437\n",
      "360\n"
     ]
    }
   ],
   "source": [
    "# features, target\n",
    "\n",
    "X = digits.drop(columns=\"target\").values\n",
    "y = digits[\"target\"].values\n",
    "\n",
    "X_train, X_test, y_train, y_test = train_test_split(X,y, test_size=0.2 , random_state=42)\n",
    "print(len(X_train))\n",
    "print(len(X_test))"
   ]
  },
  {
   "cell_type": "code",
   "execution_count": 25,
   "id": "D_QuoyANMLFy",
   "metadata": {
    "colab": {
     "base_uri": "https://localhost:8080/",
     "height": 74
    },
    "id": "D_QuoyANMLFy",
    "outputId": "5f6c2230-ac3b-49bd-8228-b6ac19330d8b"
   },
   "outputs": [
    {
     "name": "stdout",
     "output_type": "stream",
     "text": [
      "3.657841920852661 0.004997968673706055 0.35704994201660156\n"
     ]
    }
   ],
   "source": [
    "logistic_model = LogisticRegression(solver = 'sag', max_iter=1000)\n",
    "knn_model = KNeighborsClassifier()\n",
    "random_forest_model= RandomForestClassifier()\n",
    "\n",
    "t1 = time.time()\n",
    "logistic_model.fit(X_train, y_train)\n",
    "t1 = time.time() -t1\n",
    "t2 = time.time()\n",
    "knn_model.fit(X_train, y_train)\n",
    "t2 = time.time()-t2\n",
    "t3 = time.time()\n",
    "random_forest_model.fit(X_train, y_train)\n",
    "t3 = time.time()-t3\n",
    "print(t1,t2,t3)"
   ]
  },
  {
   "cell_type": "markdown",
   "id": "6c9969a0",
   "metadata": {},
   "source": [
    "logistic model demoro 3.6 segundos en entrenar, knn model 0.004 segundos y random forest 0.35 segundos."
   ]
  },
  {
   "cell_type": "code",
   "execution_count": 16,
   "id": "kt8xWPEAOcdN",
   "metadata": {
    "colab": {
     "base_uri": "https://localhost:8080/"
    },
    "id": "kt8xWPEAOcdN",
    "outputId": "df0ceed6-40ab-4de4-cc1b-47e2025fc1c9"
   },
   "outputs": [
    {
     "name": "stdout",
     "output_type": "stream",
     "text": [
      "[[33  0  0  0  0  0  0  0  0  0]\n",
      " [ 0 28  0  0  0  0  0  0  0  0]\n",
      " [ 0  0 33  0  0  0  0  0  0  0]\n",
      " [ 0  0  0 33  0  1  0  0  0  0]\n",
      " [ 0  1  0  0 45  0  0  0  0  0]\n",
      " [ 0  0  1  0  0 44  1  0  0  1]\n",
      " [ 0  0  0  0  0  1 34  0  0  0]\n",
      " [ 0  0  0  0  0  1  0 33  0  0]\n",
      " [ 0  0  0  0  0  1  0  0 29  0]\n",
      " [ 0  0  0  1  0  0  0  0  1 38]]\n",
      "   accuracy  recall  precision  fscore\n",
      "0    0.9722  0.9744     0.9736  0.9739\n"
     ]
    }
   ],
   "source": [
    "evaluate_model(logistic_model, X_test, y_test)"
   ]
  },
  {
   "cell_type": "code",
   "execution_count": 17,
   "id": "RcJanj_QPMMP",
   "metadata": {
    "colab": {
     "base_uri": "https://localhost:8080/"
    },
    "id": "RcJanj_QPMMP",
    "outputId": "5cd83bd0-9f73-4a22-cf95-8f8ddb0aa544"
   },
   "outputs": [
    {
     "name": "stdout",
     "output_type": "stream",
     "text": [
      "[[33  0  0  0  0  0  0  0  0  0]\n",
      " [ 0 28  0  0  0  0  0  0  0  0]\n",
      " [ 0  0 33  0  0  0  0  0  0  0]\n",
      " [ 0  0  0 34  0  0  0  0  0  0]\n",
      " [ 0  0  0  0 46  0  0  0  0  0]\n",
      " [ 0  0  0  0  0 45  1  0  0  1]\n",
      " [ 0  0  0  0  0  0 35  0  0  0]\n",
      " [ 0  0  0  0  0  0  0 33  0  1]\n",
      " [ 0  0  0  0  0  0  0  0 30  0]\n",
      " [ 0  0  0  0  1  1  0  0  0 38]]\n",
      "   accuracy  recall  precision  fscore\n",
      "0    0.9861  0.9878     0.9879  0.9878\n"
     ]
    }
   ],
   "source": [
    "evaluate_model(knn_model, X_test, y_test)"
   ]
  },
  {
   "cell_type": "code",
   "execution_count": 18,
   "id": "6BifvCaFPL_O",
   "metadata": {
    "colab": {
     "base_uri": "https://localhost:8080/"
    },
    "id": "6BifvCaFPL_O",
    "outputId": "aa444954-6dd5-4237-e1be-51b10d84e72f"
   },
   "outputs": [
    {
     "name": "stdout",
     "output_type": "stream",
     "text": [
      "[[32  0  0  0  1  0  0  0  0  0]\n",
      " [ 0 28  0  0  0  0  0  0  0  0]\n",
      " [ 0  0 33  0  0  0  0  0  0  0]\n",
      " [ 0  0  0 33  0  1  0  0  0  0]\n",
      " [ 0  0  0  0 46  0  0  0  0  0]\n",
      " [ 0  0  0  0  0 46  1  0  0  0]\n",
      " [ 0  0  0  0  0  1 34  0  0  0]\n",
      " [ 0  0  0  0  0  0  0 33  0  1]\n",
      " [ 0  2  0  0  0  0  0  0 28  0]\n",
      " [ 0  0  0  0  0  1  0  1  0 38]]\n",
      "   accuracy  recall  precision  fscore\n",
      "0     0.975  0.9744     0.9767  0.9752\n"
     ]
    }
   ],
   "source": [
    "evaluate_model(random_forest_model, X_test, y_test)"
   ]
  },
  {
   "cell_type": "markdown",
   "id": "4Ez6NwsAQM8g",
   "metadata": {
    "id": "4Ez6NwsAQM8g"
   },
   "source": [
    "El mejor, según el fscore, es el knn_model con un fscore de 0.9803 ademas de ser el que tiene menor tiempo de entrenamiento."
   ]
  },
  {
   "cell_type": "markdown",
   "id": "f53afd2b",
   "metadata": {
    "id": "f53afd2b"
   },
   "source": [
    "### Ejercicio 4\n",
    "\n",
    "__Comprensión del modelo:__ Tomando en cuenta el **mejor modelo entontrado** en el `Ejercicio 3`, debe comprender e interpretar minuciosamente los resultados y gráficos asocados al modelo en estudio, para ello debe resolver los siguientes puntos:\n",
    "\n",
    "\n",
    " * **Curva AUC–ROC**: Replica el ejemplo del siguiente  [link](https://scikit-learn.org/stable/auto_examples/model_selection/plot_roc.html#sphx-glr-auto-examples-model-selection-plot-roc-py) pero con el modelo, parámetros y métrica adecuada. Saque conclusiones del gráfico."
   ]
  },
  {
   "cell_type": "code",
   "execution_count": 19,
   "id": "5b7d6ee5",
   "metadata": {
    "colab": {
     "base_uri": "https://localhost:8080/",
     "height": 564
    },
    "id": "5b7d6ee5",
    "outputId": "0af66b53-d6b2-4389-fac2-0a6238147147"
   },
   "outputs": [
    {
     "data": {
      "image/png": "[encoded data removed]",
      "text/plain": [
       "<Figure size 800x600 with 1 Axes>"
      ]
     },
     "metadata": {},
     "output_type": "display_data"
    }
   ],
   "source": [
    "# Obtener las probabilidades de predicción para cada clase\n",
    "y_pred_proba = knn_model.predict_proba(X_test)\n",
    "\n",
    "# Calcular la curva ROC y el puntaje AUC-ROC para cada clase\n",
    "n_classes = len(knn_model.classes_)\n",
    "fpr = dict()\n",
    "tpr = dict()\n",
    "roc_auc = dict()\n",
    "\n",
    "for i in range(n_classes):\n",
    "    fpr[i], tpr[i], _ = roc_curve(y_test, y_pred_proba[:, i], pos_label=i)\n",
    "    roc_auc[i] = auc(fpr[i], tpr[i])\n",
    "\n",
    "# Graficar las curvas AUC-ROC para cada clase\n",
    "plt.figure(figsize=(8, 6))\n",
    "colors = ['blue', 'red', 'green', 'orange', 'purple', 'brown', 'pink', 'gray', 'olive', 'cyan']\n",
    "\n",
    "for i in range(n_classes):\n",
    "    plt.plot(fpr[i], tpr[i], color=colors[i], lw=2, label=f'Clase {i} (AUC = {roc_auc[i]:.2f})')\n",
    "\n",
    "plt.plot([0, 1], [0, 1], color='black', lw=2, linestyle='--')\n",
    "plt.xlim([0.0, 1.0])\n",
    "plt.ylim([0.0, 1.05])\n",
    "plt.xlabel('Tasa de Falsos Positivos')\n",
    "plt.ylabel('Tasa de Verdaderos Positivos')\n",
    "plt.title('Curvas AUC-ROC para el modelo de KNN')\n",
    "plt.legend(loc=\"lower right\")\n",
    "plt.show()"
   ]
  },
  {
   "cell_type": "markdown",
   "id": "da7ea491",
   "metadata": {},
   "source": [
    "Se puede ver que todas las curvas AUC tiene tasa 1 menos la clase 9 que tiene un AUC = 0.99"
   ]
  },
  {
   "cell_type": "markdown",
   "id": "528c1506",
   "metadata": {
    "id": "528c1506"
   },
   "source": [
    "### Ejercicio 5\n",
    "\n",
    "\n",
    "__Visualizando Resultados:__ A continuación se provee código para comparar las etiquetas predichas vs las etiquetas reales del conjunto de _test_."
   ]
  },
  {
   "cell_type": "code",
   "execution_count": 20,
   "id": "d13bf1ad",
   "metadata": {
    "id": "d13bf1ad"
   },
   "outputs": [],
   "source": [
    "def mostrar_resultados(digits, model, nx=5, ny=5, label=\"correctos\"):\n",
    "    \"\"\"\n",
    "    Muestra los resultados de las predicciones de un modelo de clasificación en particular.\n",
    "    Se toman aleatoriamente los valores de los resultados.\n",
    "\n",
    "    - label == 'correctos': muestra los valores en los que el modelo acierta.\n",
    "    - label == 'incorrectos': muestra los valores en los que el modelo no acierta.\n",
    "\n",
    "    Observación: El modelo que se recibe como argumento no debe estar entrenado.\n",
    "\n",
    "    :param digits: dataset 'digits'\n",
    "    :param model: modelo de sklearn\n",
    "    :param nx: número de filas (subplots)\n",
    "    :param ny: número de columnas (subplots)\n",
    "    :param label: 'correctos' o 'incorrectos'\n",
    "    :return: gráficos matplotlib\n",
    "    \"\"\"\n",
    "\n",
    "    X = digits.drop(columns=\"target\").values\n",
    "    y = digits[\"target\"].values\n",
    "    X_train, X_test, y_train, y_test = train_test_split(X, y, test_size=0.2, random_state=42)\n",
    "    model.fit(X_train, y_train)  # Ajustar el modelo\n",
    "    y_pred = model.predict(X_test)\n",
    "\n",
    "    # Mostrar los datos correctos\n",
    "    if label == \"correctos\":\n",
    "        mask = (y_pred == y_test)\n",
    "        color = \"green\"\n",
    "\n",
    "    # Mostrar los datos incorrectos\n",
    "    elif label == \"incorrectos\":\n",
    "        mask = (y_pred != y_test)\n",
    "        color = \"red\"\n",
    "\n",
    "    else:\n",
    "        raise ValueError(\"Valor incorrecto\")\n",
    "\n",
    "    X_aux = X_test[mask]\n",
    "    y_aux_true = y_test[mask]\n",
    "    y_aux_pred = y_pred[mask]\n",
    "\n",
    "    # Mostrar los resultados\n",
    "    n_samples = min(nx * ny, len(X_aux))\n",
    "    indices = np.random.choice(len(X_aux), n_samples, replace=False)\n",
    "    fig, ax = plt.subplots(nx, ny, figsize=(12, 12))\n",
    "\n",
    "    for i, index in enumerate(indices):\n",
    "        data = X_aux[index, :].reshape(8, 8)\n",
    "        label_pred = str(int(y_aux_pred[index]))\n",
    "        label_true = str(int(y_aux_true[index]))\n",
    "        row = i // ny\n",
    "        col = i % ny\n",
    "        ax[row, col].imshow(data, interpolation='nearest', cmap='gray_r')\n",
    "        ax[row, col].text(0, 0, label_pred, horizontalalignment='center', verticalalignment='center', fontsize=10, color=color)\n",
    "        ax[row, col].text(7, 0, label_true, horizontalalignment='center', verticalalignment='center', fontsize=10, color='blue')\n",
    "        ax[row, col].get_xaxis().set_visible(False)\n",
    "        ax[row, col].get_yaxis().set_visible(False)\n",
    "\n",
    "    plt.show()"
   ]
  },
  {
   "cell_type": "markdown",
   "id": "9c7e3382",
   "metadata": {
    "id": "9c7e3382"
   },
   "source": [
    "**Pregunta**\n",
    "\n",
    "* Tomando en cuenta el mejor modelo entontrado en el `Ejercicio 3`, grafique los resultados cuando:\n",
    " * el valor predicho y original son iguales\n",
    " * el valor predicho y original son distintos\n",
    "\n",
    "\n",
    "* Cuando el valor predicho y original son distintos ,  ¿Por qué ocurren estas fallas?"
   ]
  },
  {
   "cell_type": "code",
   "execution_count": 21,
   "id": "5a928580",
   "metadata": {
    "colab": {
     "base_uri": "https://localhost:8080/",
     "height": 961
    },
    "id": "5a928580",
    "outputId": "5ce2f9fe-7964-4862-d2da-68079e21aea4"
   },
   "outputs": [
    {
     "data": {
      "image/png": "[encoded data removed]",
      "text/plain": [
       "<Figure size 1200x1200 with 25 Axes>"
      ]
     },
     "metadata": {},
     "output_type": "display_data"
    }
   ],
   "source": [
    "mostrar_resultados(digits, knn_model , label = 'correctos')"
   ]
  },
  {
   "cell_type": "code",
   "execution_count": 22,
   "id": "Rv7R3ZS3SHsi",
   "metadata": {
    "colab": {
     "base_uri": "https://localhost:8080/",
     "height": 984
    },
    "id": "Rv7R3ZS3SHsi",
    "outputId": "4a13cb24-e5b6-4341-8459-8f620ea6296c"
   },
   "outputs": [
    {
     "data": {
      "image/png": "[encoded data removed]",
      "text/plain": [
       "<Figure size 1200x1200 with 25 Axes>"
      ]
     },
     "metadata": {},
     "output_type": "display_data"
    }
   ],
   "source": [
    "mostrar_resultados(digits, knn_model , label = 'incorrectos')"
   ]
  },
  {
   "cell_type": "markdown",
   "id": "97ce6760",
   "metadata": {},
   "source": [
    "Las fallas puden deberse a que los sambles son dificil de identificar debido a la existencia de pixeles que \"ensucian\" la imagen. En la siguiente pregunta se propondra una manera para tratar de solventar este problema"
   ]
  },
  {
   "cell_type": "markdown",
   "id": "87f3d6e7",
   "metadata": {
    "id": "87f3d6e7"
   },
   "source": [
    "### Ejercicio 6\n",
    "**Conclusiones**: Entrega tu veredicto, responde las preguntas iniciales, visualizaciones, trabajos futuros, dificultades, etc."
   ]
  },
  {
   "cell_type": "markdown",
   "id": "33c62905",
   "metadata": {},
   "source": [
    "Se puede ver una alta recisión del modelo KNeighborsClassifier que clasifica correctamente con una tasa del 98%. Se podria proponer un modelo que desde algun umbral el pixel sea 0 o 32, por ejemplo con un umbral del 10% 0,1,2,3 serian 0 y 32,31,30,29 serian 32 y ver si mejora el modelo, ya que puden haber pixeles que confunden al modelo como en el primer caso mostrado anteriormente."
   ]
  }
 ],
 "metadata": {
  "colab": {
   "provenance": []
  },
  "kernelspec": {
   "display_name": "Python 3 (ipykernel)",
   "language": "python",
   "name": "python3"
  },
  "language_info": {
   "codemirror_mode": {
    "name": "ipython",
    "version": 3
   },
   "file_extension": ".py",
   "mimetype": "text/x-python",
   "name": "python",
   "nbconvert_exporter": "python",
   "pygments_lexer": "ipython3",
   "version": "3.11.3"
  }
 },
 "nbformat": 4,
 "nbformat_minor": 5
}
